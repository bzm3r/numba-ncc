{
 "cells": [
  {
   "cell_type": "code",
   "execution_count": 1,
   "metadata": {},
   "outputs": [
    {
     "ename": "SyntaxError",
     "evalue": "invalid syntax (<string>, line 1)",
     "output_type": "error",
     "traceback": [
      "Traceback \u001b[1;36m(most recent call last)\u001b[0m:\n",
      "  File \u001b[0;32m\"C:\\Users\\bhmer\\anaconda3\\lib\\site-packages\\IPython\\core\\interactiveshell.py\"\u001b[0m, line \u001b[0;32m3343\u001b[0m, in \u001b[0;35mrun_code\u001b[0m\n    exec(code_obj, self.user_global_ns, self.user_ns)\n",
      "  File \u001b[0;32m\"<ipython-input-1-e6921e84f6fb>\"\u001b[0m, line \u001b[0;32m34\u001b[0m, in \u001b[0;35m<module>\u001b[0m\n    py_dat = process_lines(os.path.join(py_dir, test_file))\n",
      "\u001b[1;36m  File \u001b[1;32m\"<ipython-input-1-e6921e84f6fb>\"\u001b[1;36m, line \u001b[1;32m21\u001b[1;36m, in \u001b[1;35mprocess_lines\u001b[1;36m\u001b[0m\n\u001b[1;33m    results[label].append(np.array(eval(dat_str)))\u001b[0m\n",
      "\u001b[1;36m  File \u001b[1;32m\"<string>\"\u001b[1;36m, line \u001b[1;32m1\u001b[0m\n\u001b[1;33m    [1. 1. 1. 1. 1. 1. 1. 1. 1. 1. 1. 1. 1. 1. 1. 1.]\u001b[0m\n\u001b[1;37m        ^\u001b[0m\n\u001b[1;31mSyntaxError\u001b[0m\u001b[1;31m:\u001b[0m invalid syntax\n"
     ]
    }
   ],
   "source": [
    "import os\n",
    "import numpy as np\n",
    "\n",
    "\n",
    "labels = [\"vertex_coords\", \"rac_acts\",\n",
    "          \"rac_inacts\", \"rho_acts\",\n",
    "          \"rho_inacts\", \"uivs\",\n",
    "          \"rgtp_forces\", \"edge_strains\", \"edge_forces\",\n",
    "          \"avg_tens_strain\", \"cyto_forces\", \"rfs\", \"next_update\"]\n",
    "\n",
    "def process_lines(fp):\n",
    "    with open(fp, 'r') as rf:\n",
    "        lines = rf.readlines()\n",
    "\n",
    "    results = dict([(label, list()) for label in labels])\n",
    "    for line in lines:\n",
    "        for label in labels:\n",
    "            n = len(label)\n",
    "            if line[:n] == label:\n",
    "                dat_str = line[n+2:].strip()\n",
    "                results[label].append(np.array(eval(dat_str)))\n",
    "    \n",
    "    for label in labels:\n",
    "        results[label] = np.array(results[label])\n",
    "        \n",
    "    return results\n",
    "\n",
    "test_file = \"out_euler.txt\"\n",
    "\n",
    "rust_dir = \"C:\\\\Users\\\\bhmer\\\\Desktop\\\\rust-ncc\\\\\"\n",
    "py_dir = \"C:\\\\Users\\\\bhmer\\\\Desktop\\\\numba-ncc\\\\\"\n",
    "\n",
    "rust_dat = process_lines(os.path.join(rust_dir, test_file))\n",
    "py_dat = process_lines(os.path.join(py_dir, test_file))\n",
    "\n",
    "deltas = dict()\n",
    "for label in labels:\n",
    "    print(label)\n",
    "    if label in ['vertex_coords', 'edge_forces', 'rgtpase_forces', 'cyto_forces', 'uivs']:\n",
    "        deltas[label] = np.linalg.norm(rust_dat[label] - py_dat[label], axis=2)\n",
    "    else:\n",
    "        deltas[label] = np.abs(rust_dat[label] - py_dat[label])"
   ]
  },
  {
   "cell_type": "code",
   "execution_count": null,
   "metadata": {},
   "outputs": [],
   "source": []
  }
 ],
 "metadata": {
  "kernelspec": {
   "display_name": "Python 3",
   "language": "python",
   "name": "python3"
  },
  "language_info": {
   "codemirror_mode": {
    "name": "ipython",
    "version": 3
   },
   "file_extension": ".py",
   "mimetype": "text/x-python",
   "name": "python",
   "nbconvert_exporter": "python",
   "pygments_lexer": "ipython3",
   "version": "3.8.3"
  }
 },
 "nbformat": 4,
 "nbformat_minor": 4
}
